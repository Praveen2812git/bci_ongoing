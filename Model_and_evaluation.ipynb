{
 "cells": [
  {
   "cell_type": "code",
   "execution_count": 1,
   "id": "bed4f35c",
   "metadata": {},
   "outputs": [],
   "source": [
    "# !pip install tensorflow_addons"
   ]
  },
  {
   "cell_type": "markdown",
   "id": "f848cf96",
   "metadata": {},
   "source": [
    "# Splitting Data"
   ]
  },
  {
   "cell_type": "code",
   "execution_count": 2,
   "id": "0021b1cd",
   "metadata": {},
   "outputs": [
    {
     "name": "stderr",
     "output_type": "stream",
     "text": [
      "C:\\Users\\Praveen\\anaconda3\\lib\\site-packages\\tensorflow_addons\\utils\\tfa_eol_msg.py:23: UserWarning: \n",
      "\n",
      "TensorFlow Addons (TFA) has ended development and introduction of new features.\n",
      "TFA has entered a minimal maintenance and release mode until a planned end of life in May 2024.\n",
      "Please modify downstream libraries to take dependencies from other repositories in our TensorFlow community (e.g. Keras, Keras-CV, and Keras-NLP). \n",
      "\n",
      "For more information see: https://github.com/tensorflow/addons/issues/2807 \n",
      "\n",
      "  warnings.warn(\n"
     ]
    }
   ],
   "source": [
    "import pandas as pd\n",
    "import numpy as np\n",
    "import matplotlib.pyplot as plt\n",
    "import seaborn as sns\n",
    "from sklearn.model_selection import train_test_split\n",
    "\n",
    "import tensorflow as tf\n",
    "import tensorflow_addons as tfa\n",
    "from tensorflow.keras.models import Sequential\n",
    "from tensorflow.keras.layers import SimpleRNN\n",
    "from tensorflow.keras.layers import LSTM\n",
    "from tensorflow.keras.layers import GRU\n",
    "from tensorflow.keras.layers import Bidirectional\n",
    "from tensorflow.keras.layers import Dense\n",
    "from keras.layers.core.embedding import Embedding\n",
    "\n",
    "from sklearn.metrics import confusion_matrix, accuracy_score, roc_auc_score, RocCurveDisplay, classification_report, f1_score, recall_score, precision_score"
   ]
  },
  {
   "cell_type": "code",
   "execution_count": 3,
   "id": "6f7ea3ae",
   "metadata": {},
   "outputs": [],
   "source": [
    "X = np.load(r\"C:\\Users\\Praveen\\Desktop\\BCI\\X_1sec.npy\")\n",
    "y = np.load(r\"C:\\Users\\Praveen\\Desktop\\BCI\\y_1sec.npy\")"
   ]
  },
  {
   "cell_type": "code",
   "execution_count": 4,
   "id": "df60f918",
   "metadata": {},
   "outputs": [],
   "source": [
    "X_train, X_test, y_train, y_test = train_test_split(X, y, test_size= 0.3, random_state= 3)\n",
    "X_test, X_val, y_test, y_val = train_test_split(X_test, y_test, test_size= 0.5, random_state= 3)"
   ]
  },
  {
   "cell_type": "code",
   "execution_count": 5,
   "id": "c8c2d6a9",
   "metadata": {},
   "outputs": [
    {
     "data": {
      "text/plain": [
       "((949, 101, 4), (204, 101, 4), (204, 101, 4))"
      ]
     },
     "execution_count": 5,
     "metadata": {},
     "output_type": "execute_result"
    }
   ],
   "source": [
    "X_train.shape, X_test.shape, X_val.shape"
   ]
  },
  {
   "cell_type": "code",
   "execution_count": 6,
   "id": "2f1ea19c",
   "metadata": {},
   "outputs": [
    {
     "data": {
      "text/plain": [
       "((949,), (204,), (204,))"
      ]
     },
     "execution_count": 6,
     "metadata": {},
     "output_type": "execute_result"
    }
   ],
   "source": [
    "y_train.shape, y_test.shape, y_val.shape"
   ]
  },
  {
   "cell_type": "markdown",
   "id": "1c0d1fa7",
   "metadata": {},
   "source": [
    "# Model Building"
   ]
  },
  {
   "cell_type": "code",
   "execution_count": 7,
   "id": "6d5c66c3",
   "metadata": {},
   "outputs": [],
   "source": [
    "lstm = Sequential()\n",
    "lstm.add(LSTM(32, input_shape= (X.shape[1], X.shape[2]), activation='relu', return_sequences=True))\n",
    "lstm.add(LSTM(15, activation='relu', return_sequences=False))\n",
    "lstm.add(Dense(1, activation='sigmoid'))\n",
    "lstm.compile(optimizer='adam', loss='binary_crossentropy', metrics=['accuracy'])"
   ]
  },
  {
   "cell_type": "code",
   "execution_count": 8,
   "id": "6aaf92bf",
   "metadata": {},
   "outputs": [
    {
     "name": "stdout",
     "output_type": "stream",
     "text": [
      "Model: \"sequential\"\n",
      "_________________________________________________________________\n",
      " Layer (type)                Output Shape              Param #   \n",
      "=================================================================\n",
      " lstm (LSTM)                 (None, 101, 32)           4736      \n",
      "                                                                 \n",
      " lstm_1 (LSTM)               (None, 15)                2880      \n",
      "                                                                 \n",
      " dense (Dense)               (None, 1)                 16        \n",
      "                                                                 \n",
      "=================================================================\n",
      "Total params: 7,632\n",
      "Trainable params: 7,632\n",
      "Non-trainable params: 0\n",
      "_________________________________________________________________\n"
     ]
    }
   ],
   "source": [
    "lstm.summary()"
   ]
  },
  {
   "cell_type": "code",
   "execution_count": 9,
   "id": "4ba70fe2",
   "metadata": {
    "scrolled": true
   },
   "outputs": [
    {
     "name": "stdout",
     "output_type": "stream",
     "text": [
      "Epoch 1/50\n",
      "30/30 [==============================] - 4s 61ms/step - loss: 42.7857 - accuracy: 0.2887 - val_loss: 5.1967 - val_accuracy: 0.3725\n",
      "Epoch 2/50\n",
      "30/30 [==============================] - 1s 48ms/step - loss: 7.9947 - accuracy: 0.2993 - val_loss: 2.7583 - val_accuracy: 0.4167\n",
      "Epoch 3/50\n",
      "30/30 [==============================] - 1s 48ms/step - loss: 3.1166 - accuracy: 0.3361 - val_loss: 1.4927 - val_accuracy: 0.4363\n",
      "Epoch 4/50\n",
      "30/30 [==============================] - 2s 50ms/step - loss: 2.5255 - accuracy: 0.4173 - val_loss: 1.2361 - val_accuracy: 0.4853\n",
      "Epoch 5/50\n",
      "30/30 [==============================] - 2s 57ms/step - loss: 1.9688 - accuracy: 0.4721 - val_loss: 1.0430 - val_accuracy: 0.5441\n",
      "Epoch 6/50\n",
      "30/30 [==============================] - 2s 72ms/step - loss: 1.9363 - accuracy: 0.5258 - val_loss: 1.1408 - val_accuracy: 0.5931\n",
      "Epoch 7/50\n",
      "30/30 [==============================] - 2s 76ms/step - loss: 1.5166 - accuracy: 0.5659 - val_loss: 1.1625 - val_accuracy: 0.5833\n",
      "Epoch 8/50\n",
      "30/30 [==============================] - 2s 74ms/step - loss: 1.6344 - accuracy: 0.6164 - val_loss: 1.0173 - val_accuracy: 0.6520\n",
      "Epoch 9/50\n",
      "30/30 [==============================] - 2s 74ms/step - loss: 1.1399 - accuracy: 0.6881 - val_loss: 0.9046 - val_accuracy: 0.6618\n",
      "Epoch 10/50\n",
      "30/30 [==============================] - 2s 72ms/step - loss: 0.9580 - accuracy: 0.7334 - val_loss: 1.0699 - val_accuracy: 0.7010\n",
      "Epoch 11/50\n",
      "30/30 [==============================] - 2s 74ms/step - loss: 0.7990 - accuracy: 0.7576 - val_loss: 1.2500 - val_accuracy: 0.7304\n",
      "Epoch 12/50\n",
      "30/30 [==============================] - 2s 75ms/step - loss: 1.1278 - accuracy: 0.7745 - val_loss: 1.0662 - val_accuracy: 0.7304\n",
      "Epoch 13/50\n",
      "30/30 [==============================] - 2s 73ms/step - loss: 0.9630 - accuracy: 0.7808 - val_loss: 1.0654 - val_accuracy: 0.7353\n",
      "Epoch 14/50\n",
      "30/30 [==============================] - 2s 72ms/step - loss: 0.9400 - accuracy: 0.7819 - val_loss: 1.2815 - val_accuracy: 0.7402\n",
      "Epoch 15/50\n",
      "30/30 [==============================] - 2s 72ms/step - loss: 1.1680 - accuracy: 0.7798 - val_loss: 1.2712 - val_accuracy: 0.7451\n",
      "Epoch 16/50\n",
      "30/30 [==============================] - 2s 73ms/step - loss: 0.9483 - accuracy: 0.7829 - val_loss: 1.2614 - val_accuracy: 0.7451\n",
      "Epoch 17/50\n",
      "30/30 [==============================] - 2s 72ms/step - loss: 1.0518 - accuracy: 0.7840 - val_loss: 1.2120 - val_accuracy: 0.7451\n",
      "Epoch 18/50\n",
      "30/30 [==============================] - 2s 73ms/step - loss: 0.9196 - accuracy: 0.7850 - val_loss: 1.2272 - val_accuracy: 0.7451\n",
      "Epoch 19/50\n",
      "30/30 [==============================] - 2s 74ms/step - loss: 1.0188 - accuracy: 0.7850 - val_loss: 1.2478 - val_accuracy: 0.7451\n",
      "Epoch 20/50\n",
      "30/30 [==============================] - 2s 74ms/step - loss: 0.8717 - accuracy: 0.7861 - val_loss: 1.4562 - val_accuracy: 0.7451\n",
      "Epoch 21/50\n",
      "30/30 [==============================] - 2s 75ms/step - loss: 0.8614 - accuracy: 0.7871 - val_loss: 1.2521 - val_accuracy: 0.7451\n",
      "Epoch 22/50\n",
      "30/30 [==============================] - 2s 75ms/step - loss: 1.0872 - accuracy: 0.7850 - val_loss: 0.9305 - val_accuracy: 0.7402\n",
      "Epoch 23/50\n",
      "30/30 [==============================] - 2s 74ms/step - loss: 1.3820 - accuracy: 0.7861 - val_loss: 0.8301 - val_accuracy: 0.7402\n",
      "Epoch 24/50\n",
      "30/30 [==============================] - 2s 75ms/step - loss: 1.5773 - accuracy: 0.7861 - val_loss: 0.9651 - val_accuracy: 0.7402\n",
      "Epoch 25/50\n",
      "30/30 [==============================] - 2s 75ms/step - loss: 1.0355 - accuracy: 0.7882 - val_loss: 0.6022 - val_accuracy: 0.7500\n",
      "Epoch 26/50\n",
      "30/30 [==============================] - 2s 74ms/step - loss: 1.3169 - accuracy: 0.7893 - val_loss: 0.6175 - val_accuracy: 0.7500\n",
      "Epoch 27/50\n",
      "30/30 [==============================] - 2s 74ms/step - loss: 0.5682 - accuracy: 0.7903 - val_loss: 0.6264 - val_accuracy: 0.7451\n",
      "Epoch 28/50\n",
      "30/30 [==============================] - 2s 72ms/step - loss: 0.5658 - accuracy: 0.7914 - val_loss: 0.6246 - val_accuracy: 0.7500\n",
      "Epoch 29/50\n",
      "30/30 [==============================] - 2s 74ms/step - loss: 0.5636 - accuracy: 0.7914 - val_loss: 0.6224 - val_accuracy: 0.7500\n",
      "Epoch 30/50\n",
      "30/30 [==============================] - 2s 75ms/step - loss: 0.5613 - accuracy: 0.7914 - val_loss: 0.6202 - val_accuracy: 0.7549\n",
      "Epoch 31/50\n",
      "30/30 [==============================] - 2s 74ms/step - loss: 0.5592 - accuracy: 0.7924 - val_loss: 0.6181 - val_accuracy: 0.7549\n",
      "Epoch 32/50\n",
      "30/30 [==============================] - 2s 73ms/step - loss: 0.5571 - accuracy: 0.7924 - val_loss: 0.6162 - val_accuracy: 0.7549\n",
      "Epoch 33/50\n",
      "30/30 [==============================] - 2s 73ms/step - loss: 0.5552 - accuracy: 0.7924 - val_loss: 0.6142 - val_accuracy: 0.7549\n",
      "Epoch 34/50\n",
      "30/30 [==============================] - 2s 72ms/step - loss: 0.5533 - accuracy: 0.7924 - val_loss: 0.6121 - val_accuracy: 0.7549\n",
      "Epoch 35/50\n",
      "30/30 [==============================] - 2s 74ms/step - loss: 0.5514 - accuracy: 0.7924 - val_loss: 0.6103 - val_accuracy: 0.7549\n",
      "Epoch 36/50\n",
      "30/30 [==============================] - 2s 74ms/step - loss: 0.5497 - accuracy: 0.7924 - val_loss: 0.6085 - val_accuracy: 0.7549\n",
      "Epoch 37/50\n",
      "30/30 [==============================] - 2s 73ms/step - loss: 0.5480 - accuracy: 0.7924 - val_loss: 0.6067 - val_accuracy: 0.7549\n",
      "Epoch 38/50\n",
      "30/30 [==============================] - 2s 74ms/step - loss: 0.5463 - accuracy: 0.7924 - val_loss: 0.6049 - val_accuracy: 0.7549\n",
      "Epoch 39/50\n",
      "30/30 [==============================] - 2s 73ms/step - loss: 0.5446 - accuracy: 0.7924 - val_loss: 0.6032 - val_accuracy: 0.7549\n",
      "Epoch 40/50\n",
      "30/30 [==============================] - 2s 74ms/step - loss: 0.5430 - accuracy: 0.7924 - val_loss: 0.6016 - val_accuracy: 0.7549\n",
      "Epoch 41/50\n",
      "30/30 [==============================] - 2s 74ms/step - loss: 0.5415 - accuracy: 0.7924 - val_loss: 0.5999 - val_accuracy: 0.7549\n",
      "Epoch 42/50\n",
      "30/30 [==============================] - 2s 72ms/step - loss: 0.5399 - accuracy: 0.7924 - val_loss: 0.5982 - val_accuracy: 0.7549\n",
      "Epoch 43/50\n",
      "30/30 [==============================] - 2s 73ms/step - loss: 0.5384 - accuracy: 0.7924 - val_loss: 0.5966 - val_accuracy: 0.7549\n",
      "Epoch 44/50\n",
      "30/30 [==============================] - 2s 72ms/step - loss: 0.5370 - accuracy: 0.7924 - val_loss: 0.5952 - val_accuracy: 0.7549\n",
      "Epoch 45/50\n",
      "30/30 [==============================] - 2s 74ms/step - loss: 0.5356 - accuracy: 0.7924 - val_loss: 0.5937 - val_accuracy: 0.7549\n",
      "Epoch 46/50\n",
      "30/30 [==============================] - 2s 75ms/step - loss: 0.5342 - accuracy: 0.7924 - val_loss: 0.5922 - val_accuracy: 0.7549\n",
      "Epoch 47/50\n",
      "30/30 [==============================] - 2s 75ms/step - loss: 0.5328 - accuracy: 0.7924 - val_loss: 0.5908 - val_accuracy: 0.7549\n",
      "Epoch 48/50\n",
      "30/30 [==============================] - 2s 76ms/step - loss: 0.5315 - accuracy: 0.7924 - val_loss: 0.5894 - val_accuracy: 0.7549\n",
      "Epoch 49/50\n",
      "30/30 [==============================] - 2s 74ms/step - loss: 0.5302 - accuracy: 0.7924 - val_loss: 0.5879 - val_accuracy: 0.7549\n",
      "Epoch 50/50\n",
      "30/30 [==============================] - 2s 75ms/step - loss: 0.5289 - accuracy: 0.7924 - val_loss: 0.5866 - val_accuracy: 0.7549\n"
     ]
    },
    {
     "data": {
      "text/plain": [
       "<keras.callbacks.History at 0x2cea65f9ae0>"
      ]
     },
     "execution_count": 9,
     "metadata": {},
     "output_type": "execute_result"
    }
   ],
   "source": [
    "lstm.fit(X_train, y_train, epochs=50, validation_data=(X_val, y_val), verbose=1)"
   ]
  },
  {
   "cell_type": "markdown",
   "id": "41050ec6",
   "metadata": {},
   "source": [
    "# Evaluation"
   ]
  },
  {
   "cell_type": "code",
   "execution_count": 10,
   "id": "1374661f",
   "metadata": {},
   "outputs": [],
   "source": [
    "class evaluation:\n",
    "    \n",
    "    def __init__(self, model, X_test, y_test):\n",
    "        self.model = model\n",
    "        self.X_test = X_test\n",
    "        self.y_test = y_test\n",
    "        \n",
    "    \n",
    "    def threshold_plot_one(self):\n",
    "    \n",
    "        x_axis = np.arange(0.1, 1.1, 0.1)\n",
    "        recall, precision = [], []\n",
    "\n",
    "        for thresh in x_axis:\n",
    "            y_pred = self.model.predict(self.X_test) >= thresh\n",
    "\n",
    "            recall.append(recall_score(y_pred, self.y_test))\n",
    "            precision.append(precision_score(y_pred, self.y_test))\n",
    "\n",
    "        plt.figure(figsize = (16, 5))\n",
    "        plt.plot(x_axis, recall)\n",
    "        plt.plot(x_axis, precision)\n",
    "        plt.show()\n",
    "    \n",
    "    def threshold_plot_zero(self):\n",
    "    \n",
    "        x_axis = np.arange(0.1, 1.1, 0.1)\n",
    "        recall, precision = [], []\n",
    "\n",
    "        for thresh in x_axis:\n",
    "            y_pred = self.model.predict(self.X_test) < thresh\n",
    "\n",
    "            recall.append(recall_score(y_pred, self.y_test))\n",
    "            precision.append(precision_score(y_pred, self.y_test))\n",
    "\n",
    "        plt.figure(figsize = (16, 5))\n",
    "        plt.plot(x_axis, recall)\n",
    "        plt.plot(x_axis, precision)\n",
    "        plt.show()\n",
    "        \n",
    "    def model_performance(self, threshold):\n",
    "    \n",
    "        y_pred = self.model.predict(self.X_test) >= threshold\n",
    "\n",
    "        print('\\n')\n",
    "        print(f'F1 Score: {f1_score(y_pred, self.y_test)}\\n')\n",
    "        print(f'Classification Report:\\n{classification_report(y_pred, self.y_test)}\\n')\n",
    "        print(f'Confusion Matrix:\\n{pd.DataFrame(confusion_matrix(y_pred, self.y_test))}')"
   ]
  },
  {
   "cell_type": "code",
   "execution_count": 11,
   "id": "770d822a",
   "metadata": {},
   "outputs": [],
   "source": [
    "evaluation_test = evaluation(lstm, X_test, y_test)\n",
    "evaluation_train = evaluation(lstm, X_train, y_train)"
   ]
  },
  {
   "cell_type": "code",
   "execution_count": 12,
   "id": "8626a44f",
   "metadata": {},
   "outputs": [
    {
     "name": "stdout",
     "output_type": "stream",
     "text": [
      "7/7 [==============================] - 1s 23ms/step\n",
      "7/7 [==============================] - 0s 22ms/step\n",
      "7/7 [==============================] - 0s 24ms/step\n",
      "7/7 [==============================] - 0s 23ms/step\n",
      "7/7 [==============================] - 0s 21ms/step\n",
      "7/7 [==============================] - 0s 20ms/step\n",
      "7/7 [==============================] - 0s 21ms/step\n",
      "7/7 [==============================] - 0s 22ms/step\n",
      "7/7 [==============================] - 0s 22ms/step\n",
      "7/7 [==============================] - 0s 21ms/step\n"
     ]
    },
    {
     "data": {
      "image/png": "[encoded data removed]",
      "text/plain": [
       "<Figure size 1600x500 with 1 Axes>"
      ]
     },
     "metadata": {},
     "output_type": "display_data"
    }
   ],
   "source": [
    "# Test\n",
    "evaluation_test.threshold_plot_one()"
   ]
  },
  {
   "cell_type": "code",
   "execution_count": 13,
   "id": "3d6fc5c2",
   "metadata": {},
   "outputs": [
    {
     "name": "stdout",
     "output_type": "stream",
     "text": [
      "30/30 [==============================] - 1s 23ms/step\n",
      "30/30 [==============================] - 1s 23ms/step\n",
      "30/30 [==============================] - 1s 23ms/step\n",
      "30/30 [==============================] - 1s 23ms/step\n",
      "30/30 [==============================] - 1s 24ms/step\n",
      "30/30 [==============================] - 1s 23ms/step\n",
      "30/30 [==============================] - 1s 23ms/step\n",
      "30/30 [==============================] - 1s 22ms/step\n",
      "30/30 [==============================] - 1s 23ms/step\n",
      "30/30 [==============================] - 1s 23ms/step\n"
     ]
    },
    {
     "data": {
      "image/png": "[encoded data removed]",
      "text/plain": [
       "<Figure size 1600x500 with 1 Axes>"
      ]
     },
     "metadata": {},
     "output_type": "display_data"
    }
   ],
   "source": [
    "# Train\n",
    "evaluation_train.threshold_plot_one()"
   ]
  },
  {
   "cell_type": "code",
   "execution_count": 18,
   "id": "1c58535f",
   "metadata": {},
   "outputs": [
    {
     "name": "stdout",
     "output_type": "stream",
     "text": [
      "7/7 [==============================] - 0s 26ms/step\n",
      "\n",
      "\n",
      "F1 Score: 0.05031446540880503\n",
      "\n",
      "Classification Report:\n",
      "              precision    recall  f1-score   support\n",
      "\n",
      "       False       1.00      0.24      0.39       200\n",
      "        True       0.03      1.00      0.05         4\n",
      "\n",
      "    accuracy                           0.26       204\n",
      "   macro avg       0.51      0.62      0.22       204\n",
      "weighted avg       0.98      0.26      0.39       204\n",
      "\n",
      "\n",
      "Confusion Matrix:\n",
      "    0    1\n",
      "0  49  151\n",
      "1   0    4\n"
     ]
    }
   ],
   "source": [
    "# Test\n",
    "evaluation_test.model_performance(0.85)"
   ]
  },
  {
   "cell_type": "code",
   "execution_count": 17,
   "id": "3b947764",
   "metadata": {},
   "outputs": [
    {
     "name": "stdout",
     "output_type": "stream",
     "text": [
      "30/30 [==============================] - 1s 27ms/step\n",
      "\n",
      "\n",
      "F1 Score: 0.023622047244094484\n",
      "\n",
      "Classification Report:\n",
      "              precision    recall  f1-score   support\n",
      "\n",
      "       False       0.99      0.21      0.35       939\n",
      "        True       0.01      0.90      0.02        10\n",
      "\n",
      "    accuracy                           0.22       949\n",
      "   macro avg       0.50      0.55      0.18       949\n",
      "weighted avg       0.98      0.22      0.34       949\n",
      "\n",
      "\n",
      "Confusion Matrix:\n",
      "     0    1\n",
      "0  196  743\n",
      "1    1    9\n"
     ]
    }
   ],
   "source": [
    "# Train\n",
    "evaluation_train.model_performance(0.85)"
   ]
  },
  {
   "cell_type": "code",
   "execution_count": null,
   "id": "4e1d347d",
   "metadata": {},
   "outputs": [],
   "source": []
  },
  {
   "cell_type": "code",
   "execution_count": null,
   "id": "a643ee85",
   "metadata": {},
   "outputs": [],
   "source": []
  },
  {
   "cell_type": "code",
   "execution_count": null,
   "id": "e5ef0fe0",
   "metadata": {},
   "outputs": [],
   "source": []
  },
  {
   "cell_type": "code",
   "execution_count": null,
   "id": "6b086578",
   "metadata": {},
   "outputs": [],
   "source": []
  },
  {
   "cell_type": "code",
   "execution_count": null,
   "id": "149c608e",
   "metadata": {},
   "outputs": [],
   "source": []
  },
  {
   "cell_type": "code",
   "execution_count": null,
   "id": "2c865261",
   "metadata": {},
   "outputs": [],
   "source": []
  },
  {
   "cell_type": "code",
   "execution_count": null,
   "id": "10cf000f",
   "metadata": {},
   "outputs": [],
   "source": []
  },
  {
   "cell_type": "code",
   "execution_count": null,
   "id": "e64071f3",
   "metadata": {},
   "outputs": [],
   "source": []
  },
  {
   "cell_type": "code",
   "execution_count": null,
   "id": "39851d66",
   "metadata": {},
   "outputs": [],
   "source": []
  },
  {
   "cell_type": "code",
   "execution_count": null,
   "id": "980ebf00",
   "metadata": {},
   "outputs": [],
   "source": []
  },
  {
   "cell_type": "code",
   "execution_count": null,
   "id": "a417db2e",
   "metadata": {},
   "outputs": [],
   "source": []
  },
  {
   "cell_type": "code",
   "execution_count": null,
   "id": "0f1f884f",
   "metadata": {},
   "outputs": [],
   "source": []
  },
  {
   "cell_type": "code",
   "execution_count": null,
   "id": "64af18a9",
   "metadata": {},
   "outputs": [],
   "source": []
  },
  {
   "cell_type": "code",
   "execution_count": null,
   "id": "7208cc88",
   "metadata": {},
   "outputs": [],
   "source": []
  },
  {
   "cell_type": "code",
   "execution_count": null,
   "id": "fa3cc641",
   "metadata": {},
   "outputs": [],
   "source": []
  },
  {
   "cell_type": "code",
   "execution_count": null,
   "id": "a0e55ad7",
   "metadata": {},
   "outputs": [],
   "source": []
  },
  {
   "cell_type": "code",
   "execution_count": null,
   "id": "ecb95b84",
   "metadata": {},
   "outputs": [],
   "source": []
  },
  {
   "cell_type": "code",
   "execution_count": null,
   "id": "d5900f71",
   "metadata": {},
   "outputs": [],
   "source": []
  },
  {
   "cell_type": "code",
   "execution_count": null,
   "id": "3d02cba7",
   "metadata": {},
   "outputs": [],
   "source": []
  },
  {
   "cell_type": "code",
   "execution_count": null,
   "id": "d37bda9a",
   "metadata": {},
   "outputs": [],
   "source": []
  },
  {
   "cell_type": "code",
   "execution_count": null,
   "id": "78b258dc",
   "metadata": {},
   "outputs": [],
   "source": []
  },
  {
   "cell_type": "code",
   "execution_count": null,
   "id": "6f7dd600",
   "metadata": {},
   "outputs": [],
   "source": []
  },
  {
   "cell_type": "code",
   "execution_count": null,
   "id": "2b37ea8b",
   "metadata": {},
   "outputs": [],
   "source": []
  },
  {
   "cell_type": "code",
   "execution_count": null,
   "id": "8364a194",
   "metadata": {},
   "outputs": [],
   "source": []
  }
 ],
 "metadata": {
  "kernelspec": {
   "display_name": "Python 3 (ipykernel)",
   "language": "python",
   "name": "python3"
  },
  "language_info": {
   "codemirror_mode": {
    "name": "ipython",
    "version": 3
   },
   "file_extension": ".py",
   "mimetype": "text/x-python",
   "name": "python",
   "nbconvert_exporter": "python",
   "pygments_lexer": "ipython3",
   "version": "3.10.9"
  }
 },
 "nbformat": 4,
 "nbformat_minor": 5
}
